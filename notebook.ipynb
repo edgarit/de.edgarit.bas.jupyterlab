{
 "cells": [
  {
   "cell_type": "markdown",
   "metadata": {},
   "source": [
    "# JupyterLab in Buisness Application Studio by Edgar"
   ]
  },
  {
   "cell_type": "markdown",
   "metadata": {},
   "source": [
    "## user vim as code editor"
   ]
  },
  {
   "cell_type": "code",
   "execution_count": null,
   "metadata": {},
   "outputs": [],
   "source": [
    "import os\n",
    "os.chdir(os.path.expanduser('~'))\n",
    "os.system('echo \"export GIT_EDITOR=vim\" >> .bashrc')\n",
    "os.system('source ~/.bashrc')"
   ]
  },
  {
   "cell_type": "markdown",
   "metadata": {},
   "source": [
    "## download pip package management"
   ]
  },
  {
   "cell_type": "code",
   "execution_count": null,
   "metadata": {},
   "outputs": [],
   "source": [
    "os.system('curl -LO https://bootstrap.pypa.io/get-pip.py')\n",
    "os.system('python3 get-pip.py')\n",
    "os.system('echo \"export PATH=/home/user/.local/bin:$PATH\" >> .bashrc')\n",
    "os.system('source ~/.bashrc')"
   ]
  },
  {
   "cell_type": "markdown",
   "metadata": {},
   "source": [
    "## install jupyter"
   ]
  },
  {
   "cell_type": "code",
   "execution_count": null,
   "metadata": {},
   "outputs": [],
   "source": [
    "os.system('pip install jupyter')"
   ]
  },
  {
   "cell_type": "markdown",
   "metadata": {},
   "source": [
    "## generate jupyter config"
   ]
  },
  {
   "cell_type": "code",
   "execution_count": null,
   "metadata": {},
   "outputs": [],
   "source": [
    "os.system('jupyter notebook --generate-config')"
   ]
  },
  {
   "cell_type": "markdown",
   "metadata": {},
   "source": [
    "## add access url config to jupyter config"
   ]
  },
  {
   "cell_type": "code",
   "execution_count": null,
   "metadata": {},
   "outputs": [],
   "source": [
    "import os\n",
    "import socket\n",
    "print(\"hostname: \"+socket.gethostname())\n",
    "hostname_array = socket.gethostname().split('-')\n",
    "origin = 'https://port8702-'+hostname_array[0]+'-'+hostname_array[1]+'-'+hostname_array[2]+'.eu10.applicationstudio.cloud.sap'\n",
    "print(\"origin: \"+origin)\n",
    "with open(os.path.expanduser('~/.jupyter/jupyter_notebook_config.py'), 'a') as file:\n",
    "    file.write('\\nc.ServerApp.allow_origin = \\''+origin+'\\'')"
   ]
  },
  {
   "cell_type": "markdown",
   "metadata": {},
   "source": [
    "## install jupyterlab"
   ]
  },
  {
   "cell_type": "code",
   "execution_count": null,
   "metadata": {},
   "outputs": [],
   "source": [
    "os.system('pip install jupyterlab')"
   ]
  },
  {
   "cell_type": "markdown",
   "metadata": {},
   "source": [
    "## create README.md"
   ]
  },
  {
   "cell_type": "code",
   "execution_count": null,
   "metadata": {},
   "outputs": [],
   "source": [
    "#jupyter nbconvert --to Markdown notebook.ipynb\n",
    "#cp notebook.md README.md "
   ]
  },
  {
   "cell_type": "markdown",
   "metadata": {},
   "source": [
    "## create install.py"
   ]
  },
  {
   "cell_type": "code",
   "execution_count": null,
   "metadata": {},
   "outputs": [],
   "source": [
    "#jupyter nbconvert --to python notebook.ipynb\n",
    "#cp notebook.py install.py"
   ]
  },
  {
   "cell_type": "markdown",
   "metadata": {},
   "source": [
    "## run jupyterlab"
   ]
  },
  {
   "cell_type": "code",
   "execution_count": null,
   "metadata": {},
   "outputs": [],
   "source": [
    "os.system('jupyter-lab')"
   ]
  }
 ],
 "metadata": {
  "kernelspec": {
   "display_name": "Python 3 (ipykernel)",
   "language": "python",
   "name": "python3"
  },
  "language_info": {
   "name": "python"
  }
 },
 "nbformat": 4,
 "nbformat_minor": 4
}
